{
 "cells": [
  {
   "cell_type": "code",
   "execution_count": 51,
   "metadata": {
    "scrolled": true
   },
   "outputs": [],
   "source": [
    "from bs4 import BeautifulSoup\n",
    "import pandas as pd\n",
    "from urllib.request import urlopen, urlretrieve, quote\n",
    "from urllib.parse import urljoin\n",
    "\n",
    "url = 'http://www.gov.scot/publications/coronavirus-covid-19-trends-in-daily-data/'\n",
    "u = urlopen(url)\n",
    "try:\n",
    "    html = u.read().decode('utf-8')\n",
    "finally:\n",
    "    u.close()\n",
    "\n",
    "soup = BeautifulSoup(html, \"html.parser\")\n",
    "\n",
    "files = set()\n",
    "for link in soup.select('a[href^=\"\"]'):\n",
    "    href = link.get('href')\n",
    "\n",
    "    if not any(href.endswith(x) for x in ['.csv','.xls','.xlsx']):\n",
    "        continue\n",
    "\n",
    "    filename = href.rsplit('/', 1)[-1]\n",
    "    ref = 'http://www.gov.scot/' + href\n",
    "    files.add(ref)"
   ]
  },
  {
   "cell_type": "code",
   "execution_count": 52,
   "metadata": {},
   "outputs": [],
   "source": [
    "for i in files:\n",
    "    if 'nhs-board' in i:\n",
    "        daily_figures = pd.read_excel(i, sheet_name = 'Table 1 - Cumulative cases', header=2)"
   ]
  },
    {
   "cell_type": "code",
   "execution_count": 53,
   "metadata": {},
   "outputs": [],
   "source": [
    "daily_figures.iloc[:,1:] = daily_figures.iloc[:,1:].apply(lambda x:pd.to_numeric(x, errors='coerce'))\n",
    "daily_figures_diff = daily_figures.diff()\n",
    "daily_figures_diff['Date'] = daily_figures['Date']\n"
   ]
  },
  {
   "cell_type": "code",
   "execution_count": 56,
   "metadata": {},
   "outputs": [],
   "source": [
    "daily_figures_diff"
   ]
  }
 ],
 "metadata": {
  "kernelspec": {
   "display_name": "Python (web_scraping)",
   "language": "python",
   "name": "web_scraping"
  },
  "language_info": {
   "codemirror_mode": {
    "name": "ipython",
    "version": 3
   },
   "file_extension": ".py",
   "mimetype": "text/x-python",
   "name": "python",
   "nbconvert_exporter": "python",
   "pygments_lexer": "ipython3",
   "version": "3.7.7"
  }
 },
 "nbformat": 4,
 "nbformat_minor": 2
}
